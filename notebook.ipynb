{
 "cells": [
  {
   "cell_type": "markdown",
   "id": "31ab2131-3049-4d8d-b9dc-d195f72af27a",
   "metadata": {},
   "source": [
    "\n",
    "![Los Angeles skyline](la_skyline.jpg)\n",
    "\n",
    "Los Angeles, California. The City of Angels. Tinseltown. The Entertainment Capital of the World! \n",
    "\n",
    "Known for its warm weather, palm trees, sprawling coastline, and Hollywood, along with producing some of the most iconic films and songs. However, as with any highly populated city, it isn't always glamorous and there can be a large volume of crime. That's where you can help!\n",
    "\n",
    "You have been asked to support the Los Angeles Police Department (LAPD) by analyzing crime data to identify patterns in criminal behavior. They plan to use your insights to allocate resources effectively to tackle various crimes in different areas.\n",
    "\n",
    "## The Data\n",
    "\n",
    "They have provided you with a single dataset to use. A summary and preview are provided below.\n",
    "\n",
    "It is a modified version of the original data, which is publicly available from Los Angeles Open Data.\n",
    "\n",
    "# crimes.csv\n",
    "\n",
    "| Column     | Description              |\n",
    "|------------|--------------------------|\n",
    "| `'DR_NO'` | Division of Records Number: Official file number made up of a 2-digit year, area ID, and 5 digits. |\n",
    "| `'Date Rptd'` | Date reported - MM/DD/YYYY. |\n",
    "| `'DATE OCC'` | Date of occurrence - MM/DD/YYYY. |\n",
    "| `'TIME OCC'` | In 24-hour military time. |\n",
    "| `'AREA NAME'` | The 21 Geographic Areas or Patrol Divisions are also given a name designation that references a landmark or the surrounding community that it is responsible for. For example, the 77th Street Division is located at the intersection of South Broadway and 77th Street, serving neighborhoods in South Los Angeles. |\n",
    "| `'Crm Cd Desc'` | Indicates the crime committed. |\n",
    "| `'Vict Age'` | Victim's age in years. |\n",
    "| `'Vict Sex'` | Victim's sex: `F`: Female, `M`: Male, `X`: Unknown. |\n",
    "| `'Vict Descent'` | Victim's descent:<ul><li>`A` - Other Asian</li><li>`B` - Black</li><li>`C` - Chinese</li><li>`D` - Cambodian</li><li>`F` - Filipino</li><li>`G` - Guamanian</li><li>`H` - Hispanic/Latin/Mexican</li><li>`I` - American Indian/Alaskan Native</li><li>`J` - Japanese</li><li>`K` - Korean</li><li>`L` - Laotian</li><li>`O` - Other</li><li>`P` - Pacific Islander</li><li>`S` - Samoan</li><li>`U` - Hawaiian</li><li>`V` - Vietnamese</li><li>`W` - White</li><li>`X` - Unknown</li><li>`Z` - Asian Indian</li> |\n",
    "| `'Weapon Desc'` | Description of the weapon used (if applicable). |\n",
    "| `'Status Desc'` | Crime status. |\n",
    "| `'LOCATION'` | Street address of the crime. |"
   ]
  },
  {
   "cell_type": "code",
   "execution_count": 1,
   "id": "7c6c3c36-5c8b-4cce-8681-95292b8f0861",
   "metadata": {
    "executionCancelledAt": null,
    "executionTime": 426,
    "lastExecutedAt": 1710441601290,
    "lastScheduledRunId": null,
    "lastSuccessfullyExecutedCode": "# Import required libraries\nimport pandas as pd\nimport numpy as np\nimport matplotlib.pyplot as plt\nimport seaborn as sns\ncrimes = pd.read_csv(\"crimes.csv\", parse_dates=[\"Date Rptd\", \"DATE OCC\"], dtype={\"TIME OCC\": str})\ncrimes.head()",
    "outputsMetadata": {
     "0": {
      "height": 198,
      "type": "dataFrame"
     }
    },
    "ExecuteTime": {
     "end_time": "2024-03-14T19:32:56.434356Z",
     "start_time": "2024-03-14T19:32:55.105690Z"
    }
   },
   "outputs": [
    {
     "data": {
      "text/plain": "       DR_NO  Date Rptd   DATE OCC TIME OCC    AREA NAME  \\\n0  221412410 2022-06-15 2020-11-12     1700      Pacific   \n1  220314085 2022-07-22 2020-05-12     1110    Southwest   \n2  222013040 2022-08-06 2020-06-04     1620      Olympic   \n3  220614831 2022-08-18 2020-08-17     1200    Hollywood   \n4  231207725 2023-02-27 2020-01-27     0635  77th Street   \n\n                                       Crm Cd Desc  Vict Age Vict Sex  \\\n0  THEFT FROM MOTOR VEHICLE - PETTY ($950 & UNDER)         0      NaN   \n1                                THEFT OF IDENTITY        27        F   \n2                                THEFT OF IDENTITY        60        M   \n3                                THEFT OF IDENTITY        28        M   \n4                                THEFT OF IDENTITY        37        M   \n\n  Vict Descent Weapon Desc  Status Desc  \\\n0          NaN         NaN  Invest Cont   \n1            B         NaN  Invest Cont   \n2            H         NaN  Invest Cont   \n3            H         NaN  Invest Cont   \n4            H         NaN  Invest Cont   \n\n                                   LOCATION  \n0  13600    MARINA POINT                 DR  \n1   2500 S  SYCAMORE                     AV  \n2   3300    SAN MARINO                   ST  \n3                         1900    TRANSIENT  \n4   6200    4TH                          AV  ",
      "text/html": "<div>\n<style scoped>\n    .dataframe tbody tr th:only-of-type {\n        vertical-align: middle;\n    }\n\n    .dataframe tbody tr th {\n        vertical-align: top;\n    }\n\n    .dataframe thead th {\n        text-align: right;\n    }\n</style>\n<table border=\"1\" class=\"dataframe\">\n  <thead>\n    <tr style=\"text-align: right;\">\n      <th></th>\n      <th>DR_NO</th>\n      <th>Date Rptd</th>\n      <th>DATE OCC</th>\n      <th>TIME OCC</th>\n      <th>AREA NAME</th>\n      <th>Crm Cd Desc</th>\n      <th>Vict Age</th>\n      <th>Vict Sex</th>\n      <th>Vict Descent</th>\n      <th>Weapon Desc</th>\n      <th>Status Desc</th>\n      <th>LOCATION</th>\n    </tr>\n  </thead>\n  <tbody>\n    <tr>\n      <th>0</th>\n      <td>221412410</td>\n      <td>2022-06-15</td>\n      <td>2020-11-12</td>\n      <td>1700</td>\n      <td>Pacific</td>\n      <td>THEFT FROM MOTOR VEHICLE - PETTY ($950 &amp; UNDER)</td>\n      <td>0</td>\n      <td>NaN</td>\n      <td>NaN</td>\n      <td>NaN</td>\n      <td>Invest Cont</td>\n      <td>13600    MARINA POINT                 DR</td>\n    </tr>\n    <tr>\n      <th>1</th>\n      <td>220314085</td>\n      <td>2022-07-22</td>\n      <td>2020-05-12</td>\n      <td>1110</td>\n      <td>Southwest</td>\n      <td>THEFT OF IDENTITY</td>\n      <td>27</td>\n      <td>F</td>\n      <td>B</td>\n      <td>NaN</td>\n      <td>Invest Cont</td>\n      <td>2500 S  SYCAMORE                     AV</td>\n    </tr>\n    <tr>\n      <th>2</th>\n      <td>222013040</td>\n      <td>2022-08-06</td>\n      <td>2020-06-04</td>\n      <td>1620</td>\n      <td>Olympic</td>\n      <td>THEFT OF IDENTITY</td>\n      <td>60</td>\n      <td>M</td>\n      <td>H</td>\n      <td>NaN</td>\n      <td>Invest Cont</td>\n      <td>3300    SAN MARINO                   ST</td>\n    </tr>\n    <tr>\n      <th>3</th>\n      <td>220614831</td>\n      <td>2022-08-18</td>\n      <td>2020-08-17</td>\n      <td>1200</td>\n      <td>Hollywood</td>\n      <td>THEFT OF IDENTITY</td>\n      <td>28</td>\n      <td>M</td>\n      <td>H</td>\n      <td>NaN</td>\n      <td>Invest Cont</td>\n      <td>1900    TRANSIENT</td>\n    </tr>\n    <tr>\n      <th>4</th>\n      <td>231207725</td>\n      <td>2023-02-27</td>\n      <td>2020-01-27</td>\n      <td>0635</td>\n      <td>77th Street</td>\n      <td>THEFT OF IDENTITY</td>\n      <td>37</td>\n      <td>M</td>\n      <td>H</td>\n      <td>NaN</td>\n      <td>Invest Cont</td>\n      <td>6200    4TH                          AV</td>\n    </tr>\n  </tbody>\n</table>\n</div>"
     },
     "execution_count": 1,
     "metadata": {},
     "output_type": "execute_result"
    }
   ],
   "source": [
    "# Import required libraries\n",
    "import pandas as pd\n",
    "import numpy as np\n",
    "import matplotlib.pyplot as plt\n",
    "import seaborn as sns\n",
    "\n",
    "# Import dataset\n",
    "crimes = pd.read_csv(\"data/crimes.csv\", parse_dates=[\"Date Rptd\", \"DATE OCC\"], dtype={\"TIME OCC\": str})\n",
    "crimes.head()"
   ]
  },
  {
   "cell_type": "markdown",
   "id": "18202cb0-b27b-4a00-9c5c-ece558123be7",
   "metadata": {},
   "source": [
    "## Descriptives\n",
    "### Describe data types"
   ]
  },
  {
   "cell_type": "code",
   "execution_count": 2,
   "id": "80213c60-b0bf-4e53-b000-4d2242778a12",
   "metadata": {
    "executionCancelledAt": null,
    "executionTime": 232,
    "lastExecutedAt": 1710441601522,
    "lastScheduledRunId": null,
    "lastSuccessfullyExecutedCode": "crimes.info()",
    "outputsMetadata": {
     "0": {
      "height": 397,
      "type": "stream"
     }
    },
    "ExecuteTime": {
     "end_time": "2024-03-14T19:32:56.629324Z",
     "start_time": "2024-03-14T19:32:56.437722Z"
    }
   },
   "outputs": [
    {
     "name": "stdout",
     "output_type": "stream",
     "text": [
      "<class 'pandas.core.frame.DataFrame'>\n",
      "RangeIndex: 247988 entries, 0 to 247987\n",
      "Data columns (total 12 columns):\n",
      " #   Column        Non-Null Count   Dtype         \n",
      "---  ------        --------------   -----         \n",
      " 0   DR_NO         247988 non-null  int64         \n",
      " 1   Date Rptd     247988 non-null  datetime64[ns]\n",
      " 2   DATE OCC      247988 non-null  datetime64[ns]\n",
      " 3   TIME OCC      247988 non-null  object        \n",
      " 4   AREA NAME     247988 non-null  object        \n",
      " 5   Crm Cd Desc   247988 non-null  object        \n",
      " 6   Vict Age      247988 non-null  int64         \n",
      " 7   Vict Sex      215740 non-null  object        \n",
      " 8   Vict Descent  215739 non-null  object        \n",
      " 9   Weapon Desc   80087 non-null   object        \n",
      " 10  Status Desc   247988 non-null  object        \n",
      " 11  LOCATION      247988 non-null  object        \n",
      "dtypes: datetime64[ns](2), int64(2), object(8)\n",
      "memory usage: 22.7+ MB\n"
     ]
    }
   ],
   "source": [
    "crimes.info()"
   ]
  },
  {
   "cell_type": "markdown",
   "id": "887d4b70-7eab-4cbc-8bfa-eb6f3e5964c2",
   "metadata": {},
   "source": [
    "# Crime Frequency\n",
    "### Distribution of the occurances per hour"
   ]
  },
  {
   "cell_type": "code",
   "execution_count": 3,
   "id": "8819a2fa-93f9-44bc-9a84-59bba62c0a9e",
   "metadata": {
    "executionCancelledAt": null,
    "executionTime": 575,
    "lastExecutedAt": 1710441602097,
    "lastScheduledRunId": null,
    "lastSuccessfullyExecutedCode": "# Extract first two characters of \"TIME OCC\" to get hour. Set the type as an integer\ncrimes[\"HOUR OCC\"] = crimes[\"TIME OCC\"].str[:2].astype(int)\n\n# Show the distribution of the \"HOUR OCC\" column\nsns.countplot(x=\"HOUR OCC\", data=crimes)",
    "ExecuteTime": {
     "end_time": "2024-03-14T19:32:59.660317Z",
     "start_time": "2024-03-14T19:32:56.638823Z"
    }
   },
   "outputs": [
    {
     "data": {
      "text/plain": "<Axes: xlabel='HOUR OCC', ylabel='count'>"
     },
     "execution_count": 3,
     "metadata": {},
     "output_type": "execute_result"
    },
    {
     "data": {
      "text/plain": "<Figure size 640x480 with 1 Axes>",
      "image/png": "[encoded data removed]"
     },
     "metadata": {},
     "output_type": "display_data"
    }
   ],
   "source": [
    "# Extract first two characters of \"TIME OCC\" to get hour. Set the type as an integer\n",
    "crimes[\"HOUR OCC\"] = crimes[\"TIME OCC\"].str[:2].astype(int)\n",
    "\n",
    "# Show the distribution of the \"HOUR OCC\" column\n",
    "sns.countplot(x=\"HOUR OCC\", data=crimes)"
   ]
  },
  {
   "cell_type": "markdown",
   "id": "0f46d174-a5a0-44e3-8455-8f1da2c66a7c",
   "metadata": {},
   "source": [
    "### Which hour sees the most crimes comitted?"
   ]
  },
  {
   "cell_type": "code",
   "execution_count": 4,
   "id": "3087dca9-8028-4560-9c72-f678240f50a9",
   "metadata": {
    "executionCancelledAt": null,
    "executionTime": 47,
    "lastExecutedAt": 1710441602145,
    "lastScheduledRunId": null,
    "lastSuccessfullyExecutedCode": "# Which hour sees the most crimes committed?\npeak_crime_hour = crimes.value_counts(\"HOUR OCC\").index[0]\n\n# How many crimes have been committed?\npeak_crime_hour_count = crimes.value_counts(\"HOUR OCC\").values[0]",
    "ExecuteTime": {
     "end_time": "2024-03-14T19:32:59.688352Z",
     "start_time": "2024-03-14T19:32:59.666305Z"
    }
   },
   "outputs": [],
   "source": [
    "# Which hour sees the most crimes committed?\n",
    "peak_crime_hour = crimes.value_counts(\"HOUR OCC\").index[0]\n",
    "\n",
    "# How many crimes have been committed?\n",
    "peak_crime_hour_count = crimes.value_counts(\"HOUR OCC\").values[0]"
   ]
  },
  {
   "cell_type": "code",
   "execution_count": 5,
   "id": "83c17ba1-bf80-47b6-9564-3d1f5a076428",
   "metadata": {
    "executionCancelledAt": null,
    "executionTime": 48,
    "lastExecutedAt": 1710441602193,
    "lastScheduledRunId": null,
    "lastSuccessfullyExecutedCode": "print(f\"At {peak_crime_hour}:00, {peak_crime_hour_count} crimes have been committed, making this the hour with the highest frequency of crimes.\")",
    "outputsMetadata": {
     "0": {
      "height": 57,
      "type": "stream"
     }
    },
    "ExecuteTime": {
     "end_time": "2024-03-14T19:32:59.704368Z",
     "start_time": "2024-03-14T19:32:59.694160Z"
    }
   },
   "outputs": [
    {
     "name": "stdout",
     "output_type": "stream",
     "text": [
      "At 12:00, 17065 crimes have been committed, making this the hour with the highest frequency of crimes.\n"
     ]
    }
   ],
   "source": [
    "print(f\"At {peak_crime_hour}:00, {peak_crime_hour_count} crimes have been committed, making this the hour with the highest frequency of crimes.\")"
   ]
  },
  {
   "cell_type": "markdown",
   "id": "0f35bcd4-3151-427f-8079-e01c884ccbe6",
   "metadata": {},
   "source": [
    "# Which area sees the most night crime?\n",
    "### Crimes committed in the night"
   ]
  },
  {
   "cell_type": "code",
   "execution_count": 6,
   "id": "b3a551c6-519e-461f-95a4-b5ef99114fed",
   "metadata": {
    "executionCancelledAt": null,
    "executionTime": 219,
    "lastExecutedAt": 1710441602412,
    "lastScheduledRunId": null,
    "lastSuccessfullyExecutedCode": "# Filtering crimes committed in the night\nnight_crimes = crimes[crimes[\"HOUR OCC\"].isin([0,1,2,3,22,23])]\n\n# Grouping night crimes by area\nnight_crime_count_by_area = night_crimes.groupby(\"AREA NAME\", as_index=False)[\"HOUR OCC\"].count()\n\n# Show areas which have the most night crime\nsns.barplot(data=night_crime_count_by_area.head(5), hue=\"AREA NAME\", x=\"HOUR OCC\")",
    "outputsMetadata": {
     "0": {
      "height": 198,
      "type": "dataFrame"
     }
    },
    "ExecuteTime": {
     "end_time": "2024-03-14T19:33:00.530382Z",
     "start_time": "2024-03-14T19:32:59.711379Z"
    }
   },
   "outputs": [
    {
     "data": {
      "text/plain": "<Axes: xlabel='HOUR OCC', ylabel='AREA NAME'>"
     },
     "execution_count": 6,
     "metadata": {},
     "output_type": "execute_result"
    },
    {
     "data": {
      "text/plain": "<Figure size 640x480 with 1 Axes>",
      "image/png": "[encoded data removed]"
     },
     "metadata": {},
     "output_type": "display_data"
    }
   ],
   "source": [
    "# Filtering crimes committed in the night\n",
    "night_crimes = crimes[crimes[\"HOUR OCC\"].isin([0,1,2,3,22,23])]\n",
    "\n",
    "# Grouping night crimes by area\n",
    "night_crime_count_by_area = night_crimes.groupby(\"AREA NAME\", as_index=False)[\"HOUR OCC\"].count()\n",
    "\n",
    "# Show areas which have the most night crime\n",
    "sns.barplot(data=night_crime_count_by_area.head(5), x=\"HOUR OCC\", y=\"AREA NAME\")"
   ]
  },
  {
   "cell_type": "markdown",
   "id": "c9786a58-079b-4658-99ae-3da2f0347626",
   "metadata": {},
   "source": [
    "### Which area has the largest frequency of night crimes?"
   ]
  },
  {
   "cell_type": "code",
   "execution_count": 7,
   "id": "b9077f3f-2266-44bf-9167-b8927ecd8ae3",
   "metadata": {
    "executionCancelledAt": null,
    "executionTime": 53,
    "lastExecutedAt": 1710441602465,
    "lastScheduledRunId": null,
    "lastSuccessfullyExecutedCode": "# Select the entry with the most night crime (from 10 PM to 3:59 AM)\npeak_night_crime = night_crime_count_by_area[night_crime_count_by_area[\"HOUR OCC\"] == night_crime_count_by_area[\"HOUR OCC\"].max()]\n\n# Extract area name from entry\npeak_night_crime_location = peak_night_crime.values[0][0]\npeak_night_crime_count = peak_night_crime.values[0][1]\n\nprint(f\"The area {peak_night_crime_location} sees the most frequent nightly crime occurrences with {peak_night_crime_count} crimes.\")",
    "outputsMetadata": {
     "0": {
      "height": 57,
      "type": "stream"
     }
    },
    "ExecuteTime": {
     "end_time": "2024-03-14T19:33:00.552570Z",
     "start_time": "2024-03-14T19:33:00.534771Z"
    }
   },
   "outputs": [
    {
     "name": "stdout",
     "output_type": "stream",
     "text": [
      "The area Central sees the most frequent nightly crime occurrences with 4091 crimes.\n"
     ]
    }
   ],
   "source": [
    "# Select the entry with the most night crime (from 10 PM to 3:59 AM)\n",
    "peak_night_crime = night_crime_count_by_area[night_crime_count_by_area[\"HOUR OCC\"] == night_crime_count_by_area[\"HOUR OCC\"].max()]\n",
    "\n",
    "# Extract area name from entry\n",
    "peak_night_crime_location = peak_night_crime.values[0][0]\n",
    "peak_night_crime_count = peak_night_crime.values[0][1]\n",
    "\n",
    "print(f\"The area {peak_night_crime_location} sees the most frequent nightly crime occurrences with {peak_night_crime_count} crimes.\")"
   ]
  },
  {
   "cell_type": "markdown",
   "id": "5e1225f8-9695-4515-8aef-8b78fadc6c28",
   "metadata": {},
   "source": [
    "# Crimes committed per age group\n",
    "### Defining age groups"
   ]
  },
  {
   "cell_type": "code",
   "execution_count": 8,
   "id": "ce279870-145d-486d-9dc9-6964a9fcd4fb",
   "metadata": {
    "executionCancelledAt": null,
    "executionTime": 51,
    "lastExecutedAt": 1710441602517,
    "lastScheduledRunId": null,
    "lastSuccessfullyExecutedCode": "# Defin bins and labels\nage_bins = [0, 17, 25, 34, 44, 54, 64, crimes[\"Vict Age\"].max()]\nage_labels = [\"0-17\", \"18-25\", \"26-34\", \"35-44\", \"45-54\", \"55-64\", \"65+\"]\n\n# Segmenting victim age in predefined bins\ncrimes[\"Age Bracket\"] = pd.cut(crimes[\"Vict Age\"],\n                               bins=age_bins,\n                               labels=age_labels\n                              )",
    "outputsMetadata": {
     "0": {
      "height": 177,
      "type": "stream"
     }
    },
    "ExecuteTime": {
     "end_time": "2024-03-14T19:33:00.593598Z",
     "start_time": "2024-03-14T19:33:00.557600Z"
    }
   },
   "outputs": [],
   "source": [
    "# Defin bins and labels\n",
    "age_bins = [0, 17, 25, 34, 44, 54, 64, crimes[\"Vict Age\"].max()]\n",
    "age_labels = [\"0-17\", \"18-25\", \"26-34\", \"35-44\", \"45-54\", \"55-64\", \"65+\"]\n",
    "\n",
    "# Segmenting victim age in predefined bins\n",
    "crimes[\"Age Bracket\"] = pd.cut(crimes[\"Vict Age\"],\n",
    "                               bins=age_bins,\n",
    "                               labels=age_labels\n",
    "                              )"
   ]
  },
  {
   "cell_type": "markdown",
   "id": "b705ce47-8d0b-4903-b09e-173e2879c94e",
   "metadata": {},
   "source": [
    "### Counting amount of victims per age group"
   ]
  },
  {
   "cell_type": "code",
   "execution_count": 9,
   "id": "00869d6b-24f0-490f-9a9e-2b16c6ea356f",
   "metadata": {
    "executionCancelledAt": null,
    "executionTime": 47,
    "lastExecutedAt": 1710441602565,
    "lastScheduledRunId": null,
    "lastSuccessfullyExecutedCode": "# Counting crimes per victim age bin\nvictim_ages = crimes[\"Age Bracket\"].value_counts()\nprint(victim_ages)",
    "outputsMetadata": {
     "0": {
      "height": 177,
      "type": "stream"
     }
    },
    "ExecuteTime": {
     "end_time": "2024-03-14T19:33:00.614714Z",
     "start_time": "2024-03-14T19:33:00.599449Z"
    }
   },
   "outputs": [
    {
     "name": "stdout",
     "output_type": "stream",
     "text": [
      "Age Bracket\n",
      "26-34    47470\n",
      "35-44    42157\n",
      "45-54    28353\n",
      "18-25    28291\n",
      "55-64    20169\n",
      "65+      14747\n",
      "0-17      4528\n",
      "Name: count, dtype: int64\n"
     ]
    }
   ],
   "source": [
    "# Counting crimes per victim age bin\n",
    "victim_ages = crimes[\"Age Bracket\"].value_counts()\n",
    "print(victim_ages)"
   ]
  }
 ],
 "metadata": {
  "colab": {
   "name": "Welcome to DataCamp Workspaces.ipynb",
   "provenance": []
  },
  "kernelspec": {
   "display_name": "Python 3 (ipykernel)",
   "language": "python",
   "name": "python3"
  },
  "language_info": {
   "codemirror_mode": {
    "name": "ipython",
    "version": 3
   },
   "file_extension": ".py",
   "mimetype": "text/x-python",
   "name": "python",
   "nbconvert_exporter": "python",
   "pygments_lexer": "ipython3",
   "version": "3.8.18"
  }
 },
 "nbformat": 4,
 "nbformat_minor": 5
}
